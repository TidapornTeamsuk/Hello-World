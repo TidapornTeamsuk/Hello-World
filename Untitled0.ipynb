{
  "nbformat": 4,
  "nbformat_minor": 0,
  "metadata": {
    "colab": {
      "name": "Untitled0.ipynb",
      "provenance": [],
      "collapsed_sections": [],
      "authorship_tag": "ABX9TyMX6QJ8c8xFiQnmCxqkl8vI",
      "include_colab_link": true
    },
    "kernelspec": {
      "display_name": "Python 3",
      "name": "python3"
    },
    "language_info": {
      "name": "python"
    }
  },
  "cells": [
    {
      "cell_type": "markdown",
      "metadata": {
        "id": "view-in-github",
        "colab_type": "text"
      },
      "source": [
        "<a href=\"https://colab.research.google.com/github/TidapornTeamsuk/SnakeGame/blob/main/Untitled0.ipynb\" target=\"_parent\"><img src=\"https://colab.research.google.com/assets/colab-badge.svg\" alt=\"Open In Colab\"/></a>"
      ]
    },
    {
      "cell_type": "code",
      "metadata": {
        "id": "XoEmvUkQaQ1r"
      },
      "source": [
        "'''\n",
        "ชื่อ Discord : ม.6 มิ้งค์ ฐิดาพร สุรินทร์\n",
        "ชื่อ-นามสกุล : นางสาวฐิดาพร เติมสุข\n",
        "Email : tidapornterm2018@gmail.com\n",
        "ชั้น : ม.6\n",
        "'''\n",
        "\n",
        "# เกมเป่ายิ้งฉุบ pao-yeng-chup\n",
        "\n",
        "import random\n",
        "\n",
        "def play(player):\n",
        "    # x = ('r','p','s')\n",
        "    y = {'r': 'rock', 'p':'paper','s':'scissors'}\n",
        "\n",
        "    computer = random.choice(list(y.keys()))\n",
        "    # computer = x[random.randrange(len(x))]\n",
        "\n",
        "    if player == computer:\n",
        "        result = 'tie'\n",
        "    elif player == 'r' and computer == 's':\n",
        "        result = 'you win'\n",
        "    elif player == 'p' and computer == 'r':\n",
        "        result = 'you win'\n",
        "    elif player == 's' and computer == 'p':\n",
        "        result = 'you win'\n",
        "    else:\n",
        "        result = 'you lose'\n",
        "    print('you : {} <-> computer : {} => {}'. format(y[player], y[computer], result))\n",
        "\n",
        "while True:\n",
        "    player = input('[r]ock, [p]aper, [s]cissors, [e]xit ->')\n",
        "    if player == 'e':\n",
        "        break\n",
        "    else:\n",
        "        play(player)"
      ],
      "execution_count": null,
      "outputs": []
    }
  ]
}